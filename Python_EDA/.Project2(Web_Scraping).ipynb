{
 "cells": [
  {
   "cell_type": "code",
   "execution_count": 2,
   "id": "6c523429",
   "metadata": {},
   "outputs": [],
   "source": [
    "from bs4 import BeautifulSoup as s\n",
    "from urllib.request import urlopen as u"
   ]
  },
  {
   "cell_type": "code",
   "execution_count": 3,
   "id": "585fab80",
   "metadata": {},
   "outputs": [],
   "source": [
    "link=\"https://www.flipkart.com/laptops/pr?sid=6bo%2Cb5g&fm=neo%2Fmerchandising&iid=M_8b3b3f65-7ceb-4375-912c-d2bcdde87c58_1_372UD5BXDFYS_MC.34WHNYFH5V2Y&otracker1=hp_rich_navigation_PINNED_neo%2Fmerchandising_NA_NAV_EXPANDABLE_navigationCard_cc_13_L1_view-all&cid=34WHNYFH5V2Y&p%5B%5D=facets.rating%255B%255D%3D4%25E2%2598%2585%2B%2526%2Babove&otracker=clp_metro_expandable_1_25.metroExpandable.METRO_EXPANDABLE_HP_laptops-store_IDCNKC8H65GC_wp11&fm=neo%2Fmerchandising&iid=M_73c8e9ec-62af-4a2c-84a3-e0f88a4d99d0_25.IDCNKC8H65GC&ppt=clp&ppn=laptops-store&ssid=wivq9y8zw00000001640581007900&p%5B%5D=facets.system_memory%255B%255D%3D8%2BGB&p%5B%5D=facets.operating_system%255B%255D%3DWindows%2B10&p%5B%5D=facets.brand%255B%255D%3DHP&p%5B%5D=facets.processor%255B%255D%3DCore%2Bi5\"\n",
    "pagecontent=u(link)\n",
    "pagecode=pagecontent.read()"
   ]
  },
  {
   "cell_type": "code",
   "execution_count": 4,
   "id": "9ff5518c",
   "metadata": {},
   "outputs": [],
   "source": [
    "page_file=s(pagecode)"
   ]
  },
  {
   "cell_type": "code",
   "execution_count": 5,
   "id": "5df1728c",
   "metadata": {},
   "outputs": [
    {
     "name": "stdout",
     "output_type": "stream",
     "text": [
      "HP 14s Core i5 11th Gen - (8 GB/512 GB SSD/Windows 10 Home) 14s- DQ2535TU Thin and Light Laptop\n"
     ]
    }
   ],
   "source": [
    "hpproductname=[]\n",
    "modelname=page_file.find(\"div\",{\"class\":'_4rR01T'})\n",
    "print(modelname.text)"
   ]
  },
  {
   "cell_type": "code",
   "execution_count": 6,
   "id": "9d2b6b89",
   "metadata": {},
   "outputs": [
    {
     "data": {
      "text/plain": [
       "['HP 14s Core i5 11th Gen - (8 GB/512 GB SSD/Windows 10 Home) 14s- DQ2535TU Thin and Light Laptop',\n",
       " 'HP 14s Core i5 10th Gen - (8 GB/512 GB SSD/Windows 10 Home) 14s- ER0503TU Thin and Light Laptop',\n",
       " 'HP Core i5 11th Gen - (8 GB + 32 GB Optane/512 GB SSD/Windows 10 Home) 15s-FQ2071TU Thin and Light Lap...',\n",
       " 'HP Spectre x360 Core i5 10th Gen - (8 GB/512 GB SSD/Windows 10 Pro) 13-aw0211TU 2 in 1 Laptop',\n",
       " 'HP 15q Core i5 8th Gen - (8 GB/1 TB HDD/Windows 10 Home) 15q-ds0010TU Laptop',\n",
       " 'HP 15s Core i5 11th Gen - (8 GB/512 GB SSD/Windows 10 Home/2 GB Graphics) 15s-DR3500TX Thin and Light ...',\n",
       " 'HP Pavilion x360 Core i5 11th Gen - (8 GB/512 GB SSD/Windows 10 Home) 14-dw1039TU 2 in 1 Laptop',\n",
       " 'HP 15q Core i5 7th Gen - (8 GB/1 TB HDD/Windows 10 Home) 15q-ds0029TU Laptop',\n",
       " 'HP Pavilion 15-CS Core i5 8th Gen - (8 GB/1 TB HDD/Windows 10 Home/2 GB Graphics) 15-cs1000tx Laptop',\n",
       " 'HP 14q Core i5 8th Gen - (8 GB/1 TB HDD/Windows 10 Home) 14q-cs0017tu Thin and Light Laptop',\n",
       " 'HP Pavilion 13 Core i5 8th Gen - (8 GB/128 GB SSD/Windows 10 Home) 13-an0045tu Thin and Light Laptop',\n",
       " 'HP 14S Core i5 8th Gen - (8 GB/1 TB HDD/Windows 10 Home) cs1000tu Laptop',\n",
       " 'HP 15s Core i5 11th Gen - (8 GB/1 TB HDD/Windows 10 Home) 15s-du3032TU Thin and Light Laptop']"
      ]
     },
     "execution_count": 6,
     "metadata": {},
     "output_type": "execute_result"
    }
   ],
   "source": [
    "hpproductname=[]\n",
    "modelname=page_file.findAll(\"div\",{\"class\":'_4rR01T'})\n",
    "for i in modelname:\n",
    "    p=i.text\n",
    "    hpproductname.append(p)\n",
    "hpproductname"
   ]
  },
  {
   "cell_type": "code",
   "execution_count": 7,
   "id": "43f1acfd",
   "metadata": {},
   "outputs": [
    {
     "data": {
      "text/plain": [
       "['4.3',\n",
       " '4.4',\n",
       " '4.3',\n",
       " '5',\n",
       " '4.2',\n",
       " '4.2',\n",
       " '4',\n",
       " '4.1',\n",
       " '4.3',\n",
       " '4.2',\n",
       " '4.3',\n",
       " '4.3',\n",
       " '4']"
      ]
     },
     "execution_count": 7,
     "metadata": {},
     "output_type": "execute_result"
    }
   ],
   "source": [
    "hprating=[]\n",
    "ratingname=page_file.findAll(\"div\",{\"class\":'_3LWZlK'})\n",
    "for i in ratingname:\n",
    "    p=i.text\n",
    "    hprating.append(p)\n",
    "hprating"
   ]
  },
  {
   "cell_type": "code",
   "execution_count": 8,
   "id": "f67e86ed",
   "metadata": {},
   "outputs": [
    {
     "data": {
      "text/plain": [
       "['₹57,990',\n",
       " '₹59,990',\n",
       " '₹57,999',\n",
       " '₹1,26,000',\n",
       " '₹43,990',\n",
       " '₹64,990',\n",
       " '₹78,000',\n",
       " '₹51,930',\n",
       " '₹64,990',\n",
       " '₹44,097',\n",
       " '₹76,012',\n",
       " '₹61,373',\n",
       " '₹56,899']"
      ]
     },
     "execution_count": 8,
     "metadata": {},
     "output_type": "execute_result"
    }
   ],
   "source": [
    "hpprice=[]\n",
    "pr=page_file.findAll(\"div\",{\"class\":'_30jeq3 _1_WHN1'})\n",
    "for i in pr:\n",
    "    p=i.text\n",
    "    hpprice.append(p)\n",
    "hpprice"
   ]
  },
  {
   "cell_type": "code",
   "execution_count": 9,
   "id": "04c47e9a",
   "metadata": {},
   "outputs": [
    {
     "data": {
      "text/plain": [
       "13"
      ]
     },
     "execution_count": 9,
     "metadata": {},
     "output_type": "execute_result"
    }
   ],
   "source": [
    "len(hpproductname)"
   ]
  },
  {
   "cell_type": "code",
   "execution_count": 10,
   "id": "fadbe6b0",
   "metadata": {},
   "outputs": [
    {
     "data": {
      "text/plain": [
       "13"
      ]
     },
     "execution_count": 10,
     "metadata": {},
     "output_type": "execute_result"
    }
   ],
   "source": [
    "len(hprating)"
   ]
  },
  {
   "cell_type": "code",
   "execution_count": 11,
   "id": "fd729711",
   "metadata": {},
   "outputs": [
    {
     "data": {
      "text/plain": [
       "13"
      ]
     },
     "execution_count": 11,
     "metadata": {},
     "output_type": "execute_result"
    }
   ],
   "source": [
    "len(hpprice)"
   ]
  },
  {
   "cell_type": "code",
   "execution_count": 12,
   "id": "05164ef7",
   "metadata": {},
   "outputs": [],
   "source": [
    "import pandas as pd\n",
    "d={'productname':hpproductname,'ratings':hprating,'price':hpprice}\n",
    "hpdata=pd.DataFrame(d)"
   ]
  },
  {
   "cell_type": "code",
   "execution_count": 13,
   "id": "66b8f49f",
   "metadata": {},
   "outputs": [
    {
     "data": {
      "text/html": [
       "<div>\n",
       "<style scoped>\n",
       "    .dataframe tbody tr th:only-of-type {\n",
       "        vertical-align: middle;\n",
       "    }\n",
       "\n",
       "    .dataframe tbody tr th {\n",
       "        vertical-align: top;\n",
       "    }\n",
       "\n",
       "    .dataframe thead th {\n",
       "        text-align: right;\n",
       "    }\n",
       "</style>\n",
       "<table border=\"1\" class=\"dataframe\">\n",
       "  <thead>\n",
       "    <tr style=\"text-align: right;\">\n",
       "      <th></th>\n",
       "      <th>productname</th>\n",
       "      <th>ratings</th>\n",
       "      <th>price</th>\n",
       "    </tr>\n",
       "  </thead>\n",
       "  <tbody>\n",
       "    <tr>\n",
       "      <th>0</th>\n",
       "      <td>HP 14s Core i5 11th Gen - (8 GB/512 GB SSD/Win...</td>\n",
       "      <td>4.3</td>\n",
       "      <td>₹57,990</td>\n",
       "    </tr>\n",
       "    <tr>\n",
       "      <th>1</th>\n",
       "      <td>HP 14s Core i5 10th Gen - (8 GB/512 GB SSD/Win...</td>\n",
       "      <td>4.4</td>\n",
       "      <td>₹59,990</td>\n",
       "    </tr>\n",
       "    <tr>\n",
       "      <th>2</th>\n",
       "      <td>HP Core i5 11th Gen - (8 GB + 32 GB Optane/512...</td>\n",
       "      <td>4.3</td>\n",
       "      <td>₹57,999</td>\n",
       "    </tr>\n",
       "    <tr>\n",
       "      <th>3</th>\n",
       "      <td>HP Spectre x360 Core i5 10th Gen - (8 GB/512 G...</td>\n",
       "      <td>5</td>\n",
       "      <td>₹1,26,000</td>\n",
       "    </tr>\n",
       "    <tr>\n",
       "      <th>4</th>\n",
       "      <td>HP 15q Core i5 8th Gen - (8 GB/1 TB HDD/Window...</td>\n",
       "      <td>4.2</td>\n",
       "      <td>₹43,990</td>\n",
       "    </tr>\n",
       "    <tr>\n",
       "      <th>5</th>\n",
       "      <td>HP 15s Core i5 11th Gen - (8 GB/512 GB SSD/Win...</td>\n",
       "      <td>4.2</td>\n",
       "      <td>₹64,990</td>\n",
       "    </tr>\n",
       "    <tr>\n",
       "      <th>6</th>\n",
       "      <td>HP Pavilion x360 Core i5 11th Gen - (8 GB/512 ...</td>\n",
       "      <td>4</td>\n",
       "      <td>₹78,000</td>\n",
       "    </tr>\n",
       "    <tr>\n",
       "      <th>7</th>\n",
       "      <td>HP 15q Core i5 7th Gen - (8 GB/1 TB HDD/Window...</td>\n",
       "      <td>4.1</td>\n",
       "      <td>₹51,930</td>\n",
       "    </tr>\n",
       "    <tr>\n",
       "      <th>8</th>\n",
       "      <td>HP Pavilion 15-CS Core i5 8th Gen - (8 GB/1 TB...</td>\n",
       "      <td>4.3</td>\n",
       "      <td>₹64,990</td>\n",
       "    </tr>\n",
       "    <tr>\n",
       "      <th>9</th>\n",
       "      <td>HP 14q Core i5 8th Gen - (8 GB/1 TB HDD/Window...</td>\n",
       "      <td>4.2</td>\n",
       "      <td>₹44,097</td>\n",
       "    </tr>\n",
       "    <tr>\n",
       "      <th>10</th>\n",
       "      <td>HP Pavilion 13 Core i5 8th Gen - (8 GB/128 GB ...</td>\n",
       "      <td>4.3</td>\n",
       "      <td>₹76,012</td>\n",
       "    </tr>\n",
       "    <tr>\n",
       "      <th>11</th>\n",
       "      <td>HP 14S Core i5 8th Gen - (8 GB/1 TB HDD/Window...</td>\n",
       "      <td>4.3</td>\n",
       "      <td>₹61,373</td>\n",
       "    </tr>\n",
       "    <tr>\n",
       "      <th>12</th>\n",
       "      <td>HP 15s Core i5 11th Gen - (8 GB/1 TB HDD/Windo...</td>\n",
       "      <td>4</td>\n",
       "      <td>₹56,899</td>\n",
       "    </tr>\n",
       "  </tbody>\n",
       "</table>\n",
       "</div>"
      ],
      "text/plain": [
       "                                          productname ratings      price\n",
       "0   HP 14s Core i5 11th Gen - (8 GB/512 GB SSD/Win...     4.3    ₹57,990\n",
       "1   HP 14s Core i5 10th Gen - (8 GB/512 GB SSD/Win...     4.4    ₹59,990\n",
       "2   HP Core i5 11th Gen - (8 GB + 32 GB Optane/512...     4.3    ₹57,999\n",
       "3   HP Spectre x360 Core i5 10th Gen - (8 GB/512 G...       5  ₹1,26,000\n",
       "4   HP 15q Core i5 8th Gen - (8 GB/1 TB HDD/Window...     4.2    ₹43,990\n",
       "5   HP 15s Core i5 11th Gen - (8 GB/512 GB SSD/Win...     4.2    ₹64,990\n",
       "6   HP Pavilion x360 Core i5 11th Gen - (8 GB/512 ...       4    ₹78,000\n",
       "7   HP 15q Core i5 7th Gen - (8 GB/1 TB HDD/Window...     4.1    ₹51,930\n",
       "8   HP Pavilion 15-CS Core i5 8th Gen - (8 GB/1 TB...     4.3    ₹64,990\n",
       "9   HP 14q Core i5 8th Gen - (8 GB/1 TB HDD/Window...     4.2    ₹44,097\n",
       "10  HP Pavilion 13 Core i5 8th Gen - (8 GB/128 GB ...     4.3    ₹76,012\n",
       "11  HP 14S Core i5 8th Gen - (8 GB/1 TB HDD/Window...     4.3    ₹61,373\n",
       "12  HP 15s Core i5 11th Gen - (8 GB/1 TB HDD/Windo...       4    ₹56,899"
      ]
     },
     "execution_count": 13,
     "metadata": {},
     "output_type": "execute_result"
    }
   ],
   "source": [
    "hpdata"
   ]
  },
  {
   "cell_type": "code",
   "execution_count": 46,
   "id": "4dfbf352",
   "metadata": {},
   "outputs": [],
   "source": [
    "hpdata.to_excel(\"hp_laptop.xlsx\")"
   ]
  },
  {
   "cell_type": "code",
   "execution_count": 18,
   "id": "98ad8833",
   "metadata": {},
   "outputs": [
    {
     "data": {
      "text/html": [
       "<div>\n",
       "<style scoped>\n",
       "    .dataframe tbody tr th:only-of-type {\n",
       "        vertical-align: middle;\n",
       "    }\n",
       "\n",
       "    .dataframe tbody tr th {\n",
       "        vertical-align: top;\n",
       "    }\n",
       "\n",
       "    .dataframe thead th {\n",
       "        text-align: right;\n",
       "    }\n",
       "</style>\n",
       "<table border=\"1\" class=\"dataframe\">\n",
       "  <thead>\n",
       "    <tr style=\"text-align: right;\">\n",
       "      <th></th>\n",
       "      <th>hp_productname</th>\n",
       "      <th>hp_ratings</th>\n",
       "      <th>hp_price</th>\n",
       "    </tr>\n",
       "  </thead>\n",
       "  <tbody>\n",
       "    <tr>\n",
       "      <th>0</th>\n",
       "      <td>HP Core i5 11th Gen</td>\n",
       "      <td>4.3</td>\n",
       "      <td>56690.0</td>\n",
       "    </tr>\n",
       "    <tr>\n",
       "      <th>1</th>\n",
       "      <td>HP 14s Core i5 10th Gen</td>\n",
       "      <td>4.4</td>\n",
       "      <td>59990.0</td>\n",
       "    </tr>\n",
       "    <tr>\n",
       "      <th>2</th>\n",
       "      <td>HP 14s Core i5 11th Gen</td>\n",
       "      <td>4.3</td>\n",
       "      <td>57490.0</td>\n",
       "    </tr>\n",
       "    <tr>\n",
       "      <th>3</th>\n",
       "      <td>HP Spectre x360 Core i5 10th Gen</td>\n",
       "      <td>5.0</td>\n",
       "      <td>126000.0</td>\n",
       "    </tr>\n",
       "    <tr>\n",
       "      <th>4</th>\n",
       "      <td>HP Spectre x360 Core i5 10th Gen</td>\n",
       "      <td>4.5</td>\n",
       "      <td>122803.0</td>\n",
       "    </tr>\n",
       "    <tr>\n",
       "      <th>5</th>\n",
       "      <td>HP Envy Core i5 10th Gen</td>\n",
       "      <td>4.2</td>\n",
       "      <td>74990.0</td>\n",
       "    </tr>\n",
       "    <tr>\n",
       "      <th>6</th>\n",
       "      <td>HP Pavilion x360 Core i5 11th Gen</td>\n",
       "      <td>4.4</td>\n",
       "      <td>68990.0</td>\n",
       "    </tr>\n",
       "    <tr>\n",
       "      <th>7</th>\n",
       "      <td>HP 15s Core i5 11th Gen</td>\n",
       "      <td>4.2</td>\n",
       "      <td>64990.0</td>\n",
       "    </tr>\n",
       "    <tr>\n",
       "      <th>8</th>\n",
       "      <td>HP 15s Core i5 10th Gen</td>\n",
       "      <td>4.2</td>\n",
       "      <td>61990.0</td>\n",
       "    </tr>\n",
       "    <tr>\n",
       "      <th>9</th>\n",
       "      <td>HP 15q Core i5 7th Gen</td>\n",
       "      <td>4.1</td>\n",
       "      <td>51930.0</td>\n",
       "    </tr>\n",
       "    <tr>\n",
       "      <th>10</th>\n",
       "      <td>HP Pavilion 15-CS Core i5 8th Gen</td>\n",
       "      <td>4.3</td>\n",
       "      <td>64990.0</td>\n",
       "    </tr>\n",
       "    <tr>\n",
       "      <th>11</th>\n",
       "      <td>HP 14q Core i5 8th Gen</td>\n",
       "      <td>4.2</td>\n",
       "      <td>44097.0</td>\n",
       "    </tr>\n",
       "  </tbody>\n",
       "</table>\n",
       "</div>"
      ],
      "text/plain": [
       "                        hp_productname  hp_ratings  hp_price\n",
       "0                 HP Core i5 11th Gen          4.3   56690.0\n",
       "1             HP 14s Core i5 10th Gen          4.4   59990.0\n",
       "2             HP 14s Core i5 11th Gen          4.3   57490.0\n",
       "3    HP Spectre x360 Core i5 10th Gen          5.0  126000.0\n",
       "4     HP Spectre x360 Core i5 10th Gen         4.5  122803.0\n",
       "5            HP Envy Core i5 10th Gen          4.2   74990.0\n",
       "6   HP Pavilion x360 Core i5 11th Gen          4.4   68990.0\n",
       "7             HP 15s Core i5 11th Gen          4.2   64990.0\n",
       "8              HP 15s Core i5 10th Gen         4.2   61990.0\n",
       "9               HP 15q Core i5 7th Gen         4.1   51930.0\n",
       "10  HP Pavilion 15-CS Core i5 8th Gen          4.3   64990.0\n",
       "11             HP 14q Core i5 8th Gen          4.2   44097.0"
      ]
     },
     "execution_count": 18,
     "metadata": {},
     "output_type": "execute_result"
    }
   ],
   "source": [
    "hpdata = pd.read_csv(\"hp_laptop.csv\")\n",
    "hp_data=pd.DataFrame(hpdata)\n",
    "hp_data"
   ]
  },
  {
   "cell_type": "code",
   "execution_count": 19,
   "id": "a9e84380",
   "metadata": {},
   "outputs": [],
   "source": [
    "lin=\"https://www.flipkart.com/laptops/pr?sid=6bo%2Cb5g&fm=neo%2Fmerchandising&iid=M_8b3b3f65-7ceb-4375-912c-d2bcdde87c58_1_372UD5BXDFYS_MC.34WHNYFH5V2Y&otracker1=hp_rich_navigation_PINNED_neo%2Fmerchandising_NA_NAV_EXPANDABLE_navigationCard_cc_13_L1_view-all&cid=34WHNYFH5V2Y&otracker=clp_metro_expandable_2_25.metroExpandable.METRO_EXPANDABLE_Dell_laptops-store_7VBA1SQWKI3W_wp11&fm=neo%2Fmerchandising&iid=M_9f9808e6-d869-4e9f-af33-9e5f674da243_25.7VBA1SQWKI3W&ppt=clp&ppn=laptops-store&ssid=okmo9usk1c0000001640581076800&p%5B%5D=facets.rating%255B%255D%3D4%25E2%2598%2585%2B%2526%2Babove&p%5B%5D=facets.operating_system%255B%255D%3DWindows%2B10&p%5B%5D=facets.brand%255B%255D%3DDELL&p%5B%5D=facets.processor%255B%255D%3DCore%2Bi5&p%5B%5D=facets.system_memory%255B%255D%3D8%2BGB\"\n",
    "pagecont=u(lin)\n",
    "pgcode=pagecont.read()"
   ]
  },
  {
   "cell_type": "code",
   "execution_count": 20,
   "id": "6a3fdf9c",
   "metadata": {},
   "outputs": [],
   "source": [
    "pagefile=s(pgcode)"
   ]
  },
  {
   "cell_type": "code",
   "execution_count": 21,
   "id": "9aa603ec",
   "metadata": {},
   "outputs": [
    {
     "name": "stdout",
     "output_type": "stream",
     "text": [
      "DELL Vostro Core i5 11th Gen - (8 GB/512 GB SSD/Windows 10) Vostro 3400 Thin and Light Laptop\n"
     ]
    }
   ],
   "source": [
    "dellproductname=[]\n",
    "model_name=pagefile.find(\"div\",{\"class\":'_4rR01T'})\n",
    "print(model_name.text)"
   ]
  },
  {
   "cell_type": "code",
   "execution_count": 22,
   "id": "b840c9c5",
   "metadata": {},
   "outputs": [
    {
     "data": {
      "text/plain": [
       "['DELL Vostro Core i5 11th Gen - (8 GB/512 GB SSD/Windows 10) Vostro 3400 Thin and Light Laptop',\n",
       " 'DELL G15 Core i5 10th Gen - (8 GB/512 GB SSD/Windows 10/4 GB Graphics/NVIDIA GeForce GTX 1650/120 Hz) ...',\n",
       " 'DELL G15 Core i5 10th Gen - (8 GB/512 GB SSD/Windows 10/4 GB Graphics/NVIDIA GeForce GTX 1650/120 Hz) ...',\n",
       " 'DELL Inspiron Core i5 11th Gen - (8 GB/512 GB SSD/Windows 10) Inspiron 5410 2 in 1 Laptop',\n",
       " 'DELL Vostro Core i5 11th Gen - (8 GB/512 GB SSD/Windows 10/2 GB Graphics) Vostro 3400 Thin and Light L...',\n",
       " 'DELL Inspiron Core i5 11th Gen - (8 GB/512 GB SSD/Windows 10) Inspiron 5410 2 in 1 Laptop',\n",
       " 'DELL Vostro Core i5 11th Gen - (8 GB/512 GB SSD/Windows 10/2 GB Graphics) Vostro 3400 Thin and Light L...',\n",
       " 'DELL Inspiron Core i5 11th Gen - (8 GB/256 GB SSD/Windows 10) Inspiron 3511 Thin and Light Laptop',\n",
       " 'DELL Inspiron Core i5 11th Gen - (8 GB/512 GB SSD/Windows 10/2 GB Graphics) Inspiron 5410 2 in 1 Lapto...',\n",
       " 'DELL Inspiron 3501 Core i5 11th Gen - (8 GB/1 TB HDD/256 GB SSD/Windows 10 Home/2 GB Graphics) Inspiro...',\n",
       " 'DELL GAMING G5 SERIES Core i5 10th Gen - (8 GB/512 GB SSD/Windows 10/4 GB Graphics/NVIDIA GeForce GTX ...',\n",
       " 'DELL Inspiron Core i5 10th Gen - (8 GB/512 GB SSD/Windows 10 Home) Inspiron 7490 Thin and Light Laptop',\n",
       " 'DELL Inspiron Core i5 11th Gen - (8 GB/512 GB SSD/Windows 10) Inspiron 5410 2 in 1 Laptop',\n",
       " 'DELL Inspiron Core i5 11th Gen - (8 GB/512 GB SSD/Windows 10 Home/2 GB Graphics) Inspiron 5409 Thin an...',\n",
       " 'DELL Inspiron Core i5 11th Gen - (8 GB/1 TB HDD/256 GB SSD/Windows 10/2 GB Graphics) Inspiron 3511 Thi...',\n",
       " 'DELL Inspiron Core i5 11th Gen - (8 GB/512 GB SSD/Windows 10/2 GB Graphics) Inspiron 5410 2 in 1 Lapto...',\n",
       " 'DELL G3 Core i5 10th Gen - (8 GB/1 TB HDD/256 GB SSD/Windows 10 Home/4 GB Graphics/NVIDIA GeForce GTX ...',\n",
       " 'DELL Inspiron Core i5 11th Gen - (8 GB/512 GB SSD/Windows 10 Home/2 GB Graphics) Inspiron 7400 Thin an...',\n",
       " 'DELL Inspiron Core i5 11th Gen - (8 GB/1 TB HDD/256 GB SSD/Windows 10/2 GB Graphics) INSPIRON 3501 Thi...',\n",
       " 'DELL Inspiron 15 5000 Core i5 8th Gen - (8 GB/2 TB HDD/Windows 10 Home/2 GB Graphics) 5570 Laptop']"
      ]
     },
     "execution_count": 22,
     "metadata": {},
     "output_type": "execute_result"
    }
   ],
   "source": [
    "dellprodctname=[]\n",
    "model_name=pagefile.findAll(\"div\",{\"class\":'_4rR01T'})\n",
    "for i in model_name:\n",
    "    p=i.text\n",
    "    dellproductname.append(p)\n",
    "dellproductname"
   ]
  },
  {
   "cell_type": "code",
   "execution_count": 23,
   "id": "59a2aa38",
   "metadata": {},
   "outputs": [
    {
     "data": {
      "text/plain": [
       "['4.1',\n",
       " '4.3',\n",
       " '4.4',\n",
       " '4.5',\n",
       " '4.1',\n",
       " '4.5',\n",
       " '4.2',\n",
       " '4.3',\n",
       " '4.8',\n",
       " '4.3',\n",
       " '4.2',\n",
       " '4.3',\n",
       " '4.5',\n",
       " '4.2',\n",
       " '4',\n",
       " '4.5',\n",
       " '4.3',\n",
       " '4.1',\n",
       " '4.2',\n",
       " '4']"
      ]
     },
     "execution_count": 23,
     "metadata": {},
     "output_type": "execute_result"
    }
   ],
   "source": [
    "dellratings=[]\n",
    "rating_name=pagefile.findAll(\"div\",{\"class\":'_3LWZlK'})\n",
    "for i in rating_name:\n",
    "    p=i.text\n",
    "    dellratings.append(p)\n",
    "dellratings"
   ]
  },
  {
   "cell_type": "code",
   "execution_count": 24,
   "id": "6062021d",
   "metadata": {},
   "outputs": [
    {
     "data": {
      "text/plain": [
       "['₹58,799',\n",
       " '₹62,990',\n",
       " '₹63,990',\n",
       " '₹70,856',\n",
       " '₹66,499',\n",
       " '₹70,850',\n",
       " '₹59,990',\n",
       " '₹56,199',\n",
       " '₹78,300',\n",
       " '₹68,990',\n",
       " '₹76,300',\n",
       " '₹81,299',\n",
       " '₹74,990',\n",
       " '₹65,471',\n",
       " '₹63,598',\n",
       " '₹82,900',\n",
       " '₹77,900',\n",
       " '₹89,999',\n",
       " '₹69,695',\n",
       " '₹61,990']"
      ]
     },
     "execution_count": 24,
     "metadata": {},
     "output_type": "execute_result"
    }
   ],
   "source": [
    "dellprice=[]\n",
    "pricee=pagefile.findAll(\"div\",{\"class\":'_30jeq3 _1_WHN1'})\n",
    "for i in pricee:\n",
    "    p=i.text\n",
    "    dellprice.append(p)\n",
    "dellprice"
   ]
  },
  {
   "cell_type": "code",
   "execution_count": 25,
   "id": "29d4b529",
   "metadata": {},
   "outputs": [
    {
     "data": {
      "text/plain": [
       "20"
      ]
     },
     "execution_count": 25,
     "metadata": {},
     "output_type": "execute_result"
    }
   ],
   "source": [
    "len(dellproductname)"
   ]
  },
  {
   "cell_type": "code",
   "execution_count": 26,
   "id": "38f84598",
   "metadata": {},
   "outputs": [
    {
     "data": {
      "text/plain": [
       "20"
      ]
     },
     "execution_count": 26,
     "metadata": {},
     "output_type": "execute_result"
    }
   ],
   "source": [
    "len(dellratings)"
   ]
  },
  {
   "cell_type": "code",
   "execution_count": 27,
   "id": "b81255ee",
   "metadata": {},
   "outputs": [
    {
     "data": {
      "text/plain": [
       "20"
      ]
     },
     "execution_count": 27,
     "metadata": {},
     "output_type": "execute_result"
    }
   ],
   "source": [
    "len(dellprice)"
   ]
  },
  {
   "cell_type": "code",
   "execution_count": 28,
   "id": "ab4d67f2",
   "metadata": {},
   "outputs": [
    {
     "data": {
      "text/html": [
       "<div>\n",
       "<style scoped>\n",
       "    .dataframe tbody tr th:only-of-type {\n",
       "        vertical-align: middle;\n",
       "    }\n",
       "\n",
       "    .dataframe tbody tr th {\n",
       "        vertical-align: top;\n",
       "    }\n",
       "\n",
       "    .dataframe thead th {\n",
       "        text-align: right;\n",
       "    }\n",
       "</style>\n",
       "<table border=\"1\" class=\"dataframe\">\n",
       "  <thead>\n",
       "    <tr style=\"text-align: right;\">\n",
       "      <th></th>\n",
       "      <th>productname</th>\n",
       "      <th>ratings</th>\n",
       "      <th>price</th>\n",
       "    </tr>\n",
       "  </thead>\n",
       "  <tbody>\n",
       "    <tr>\n",
       "      <th>0</th>\n",
       "      <td>DELL Vostro Core i5 11th Gen - (8 GB/512 GB SS...</td>\n",
       "      <td>4.1</td>\n",
       "      <td>₹58,799</td>\n",
       "    </tr>\n",
       "    <tr>\n",
       "      <th>1</th>\n",
       "      <td>DELL G15 Core i5 10th Gen - (8 GB/512 GB SSD/W...</td>\n",
       "      <td>4.3</td>\n",
       "      <td>₹62,990</td>\n",
       "    </tr>\n",
       "    <tr>\n",
       "      <th>2</th>\n",
       "      <td>DELL G15 Core i5 10th Gen - (8 GB/512 GB SSD/W...</td>\n",
       "      <td>4.4</td>\n",
       "      <td>₹63,990</td>\n",
       "    </tr>\n",
       "    <tr>\n",
       "      <th>3</th>\n",
       "      <td>DELL Inspiron Core i5 11th Gen - (8 GB/512 GB ...</td>\n",
       "      <td>4.5</td>\n",
       "      <td>₹70,856</td>\n",
       "    </tr>\n",
       "    <tr>\n",
       "      <th>4</th>\n",
       "      <td>DELL Vostro Core i5 11th Gen - (8 GB/512 GB SS...</td>\n",
       "      <td>4.1</td>\n",
       "      <td>₹66,499</td>\n",
       "    </tr>\n",
       "    <tr>\n",
       "      <th>5</th>\n",
       "      <td>DELL Inspiron Core i5 11th Gen - (8 GB/512 GB ...</td>\n",
       "      <td>4.5</td>\n",
       "      <td>₹70,850</td>\n",
       "    </tr>\n",
       "    <tr>\n",
       "      <th>6</th>\n",
       "      <td>DELL Vostro Core i5 11th Gen - (8 GB/512 GB SS...</td>\n",
       "      <td>4.2</td>\n",
       "      <td>₹59,990</td>\n",
       "    </tr>\n",
       "    <tr>\n",
       "      <th>7</th>\n",
       "      <td>DELL Inspiron Core i5 11th Gen - (8 GB/256 GB ...</td>\n",
       "      <td>4.3</td>\n",
       "      <td>₹56,199</td>\n",
       "    </tr>\n",
       "    <tr>\n",
       "      <th>8</th>\n",
       "      <td>DELL Inspiron Core i5 11th Gen - (8 GB/512 GB ...</td>\n",
       "      <td>4.8</td>\n",
       "      <td>₹78,300</td>\n",
       "    </tr>\n",
       "    <tr>\n",
       "      <th>9</th>\n",
       "      <td>DELL Inspiron 3501 Core i5 11th Gen - (8 GB/1 ...</td>\n",
       "      <td>4.3</td>\n",
       "      <td>₹68,990</td>\n",
       "    </tr>\n",
       "    <tr>\n",
       "      <th>10</th>\n",
       "      <td>DELL GAMING G5 SERIES Core i5 10th Gen - (8 GB...</td>\n",
       "      <td>4.2</td>\n",
       "      <td>₹76,300</td>\n",
       "    </tr>\n",
       "    <tr>\n",
       "      <th>11</th>\n",
       "      <td>DELL Inspiron Core i5 10th Gen - (8 GB/512 GB ...</td>\n",
       "      <td>4.3</td>\n",
       "      <td>₹81,299</td>\n",
       "    </tr>\n",
       "    <tr>\n",
       "      <th>12</th>\n",
       "      <td>DELL Inspiron Core i5 11th Gen - (8 GB/512 GB ...</td>\n",
       "      <td>4.5</td>\n",
       "      <td>₹74,990</td>\n",
       "    </tr>\n",
       "    <tr>\n",
       "      <th>13</th>\n",
       "      <td>DELL Inspiron Core i5 11th Gen - (8 GB/512 GB ...</td>\n",
       "      <td>4.2</td>\n",
       "      <td>₹65,471</td>\n",
       "    </tr>\n",
       "    <tr>\n",
       "      <th>14</th>\n",
       "      <td>DELL Inspiron Core i5 11th Gen - (8 GB/1 TB HD...</td>\n",
       "      <td>4</td>\n",
       "      <td>₹63,598</td>\n",
       "    </tr>\n",
       "    <tr>\n",
       "      <th>15</th>\n",
       "      <td>DELL Inspiron Core i5 11th Gen - (8 GB/512 GB ...</td>\n",
       "      <td>4.5</td>\n",
       "      <td>₹82,900</td>\n",
       "    </tr>\n",
       "    <tr>\n",
       "      <th>16</th>\n",
       "      <td>DELL G3 Core i5 10th Gen - (8 GB/1 TB HDD/256 ...</td>\n",
       "      <td>4.3</td>\n",
       "      <td>₹77,900</td>\n",
       "    </tr>\n",
       "    <tr>\n",
       "      <th>17</th>\n",
       "      <td>DELL Inspiron Core i5 11th Gen - (8 GB/512 GB ...</td>\n",
       "      <td>4.1</td>\n",
       "      <td>₹89,999</td>\n",
       "    </tr>\n",
       "    <tr>\n",
       "      <th>18</th>\n",
       "      <td>DELL Inspiron Core i5 11th Gen - (8 GB/1 TB HD...</td>\n",
       "      <td>4.2</td>\n",
       "      <td>₹69,695</td>\n",
       "    </tr>\n",
       "    <tr>\n",
       "      <th>19</th>\n",
       "      <td>DELL Inspiron 15 5000 Core i5 8th Gen - (8 GB/...</td>\n",
       "      <td>4</td>\n",
       "      <td>₹61,990</td>\n",
       "    </tr>\n",
       "  </tbody>\n",
       "</table>\n",
       "</div>"
      ],
      "text/plain": [
       "                                          productname ratings    price\n",
       "0   DELL Vostro Core i5 11th Gen - (8 GB/512 GB SS...     4.1  ₹58,799\n",
       "1   DELL G15 Core i5 10th Gen - (8 GB/512 GB SSD/W...     4.3  ₹62,990\n",
       "2   DELL G15 Core i5 10th Gen - (8 GB/512 GB SSD/W...     4.4  ₹63,990\n",
       "3   DELL Inspiron Core i5 11th Gen - (8 GB/512 GB ...     4.5  ₹70,856\n",
       "4   DELL Vostro Core i5 11th Gen - (8 GB/512 GB SS...     4.1  ₹66,499\n",
       "5   DELL Inspiron Core i5 11th Gen - (8 GB/512 GB ...     4.5  ₹70,850\n",
       "6   DELL Vostro Core i5 11th Gen - (8 GB/512 GB SS...     4.2  ₹59,990\n",
       "7   DELL Inspiron Core i5 11th Gen - (8 GB/256 GB ...     4.3  ₹56,199\n",
       "8   DELL Inspiron Core i5 11th Gen - (8 GB/512 GB ...     4.8  ₹78,300\n",
       "9   DELL Inspiron 3501 Core i5 11th Gen - (8 GB/1 ...     4.3  ₹68,990\n",
       "10  DELL GAMING G5 SERIES Core i5 10th Gen - (8 GB...     4.2  ₹76,300\n",
       "11  DELL Inspiron Core i5 10th Gen - (8 GB/512 GB ...     4.3  ₹81,299\n",
       "12  DELL Inspiron Core i5 11th Gen - (8 GB/512 GB ...     4.5  ₹74,990\n",
       "13  DELL Inspiron Core i5 11th Gen - (8 GB/512 GB ...     4.2  ₹65,471\n",
       "14  DELL Inspiron Core i5 11th Gen - (8 GB/1 TB HD...       4  ₹63,598\n",
       "15  DELL Inspiron Core i5 11th Gen - (8 GB/512 GB ...     4.5  ₹82,900\n",
       "16  DELL G3 Core i5 10th Gen - (8 GB/1 TB HDD/256 ...     4.3  ₹77,900\n",
       "17  DELL Inspiron Core i5 11th Gen - (8 GB/512 GB ...     4.1  ₹89,999\n",
       "18  DELL Inspiron Core i5 11th Gen - (8 GB/1 TB HD...     4.2  ₹69,695\n",
       "19  DELL Inspiron 15 5000 Core i5 8th Gen - (8 GB/...       4  ₹61,990"
      ]
     },
     "execution_count": 28,
     "metadata": {},
     "output_type": "execute_result"
    }
   ],
   "source": [
    "import pandas as pd\n",
    "d={'productname':dellproductname,'ratings':dellratings,'price':dellprice}\n",
    "delldata=pd.DataFrame(d)\n",
    "delldata"
   ]
  },
  {
   "cell_type": "code",
   "execution_count": 32,
   "id": "34d3871c",
   "metadata": {},
   "outputs": [],
   "source": [
    "delldata.to_excel(\"dell_laptop.xlsx\")"
   ]
  },
  {
   "cell_type": "code",
   "execution_count": 30,
   "id": "ef2fa260",
   "metadata": {},
   "outputs": [
    {
     "data": {
      "text/html": [
       "<div>\n",
       "<style scoped>\n",
       "    .dataframe tbody tr th:only-of-type {\n",
       "        vertical-align: middle;\n",
       "    }\n",
       "\n",
       "    .dataframe tbody tr th {\n",
       "        vertical-align: top;\n",
       "    }\n",
       "\n",
       "    .dataframe thead th {\n",
       "        text-align: right;\n",
       "    }\n",
       "</style>\n",
       "<table border=\"1\" class=\"dataframe\">\n",
       "  <thead>\n",
       "    <tr style=\"text-align: right;\">\n",
       "      <th></th>\n",
       "      <th>dell_productname</th>\n",
       "      <th>dell_ratings</th>\n",
       "      <th>dell_price</th>\n",
       "    </tr>\n",
       "  </thead>\n",
       "  <tbody>\n",
       "    <tr>\n",
       "      <th>0</th>\n",
       "      <td>DELL Vostro Core i5 11th Gen</td>\n",
       "      <td>4.1</td>\n",
       "      <td>54990.0</td>\n",
       "    </tr>\n",
       "    <tr>\n",
       "      <th>1</th>\n",
       "      <td>DELL G15 Core i5 10th Gen</td>\n",
       "      <td>4.3</td>\n",
       "      <td>60990.0</td>\n",
       "    </tr>\n",
       "    <tr>\n",
       "      <th>2</th>\n",
       "      <td>DELL G15 Core i5 10th Gen</td>\n",
       "      <td>4.3</td>\n",
       "      <td>59990.0</td>\n",
       "    </tr>\n",
       "    <tr>\n",
       "      <th>3</th>\n",
       "      <td>DELL Inspiron Core i5 11th Gen</td>\n",
       "      <td>4.5</td>\n",
       "      <td>70856.0</td>\n",
       "    </tr>\n",
       "    <tr>\n",
       "      <th>4</th>\n",
       "      <td>DELL Vostro Core i5 11th Gen</td>\n",
       "      <td>4.1</td>\n",
       "      <td>59990.0</td>\n",
       "    </tr>\n",
       "    <tr>\n",
       "      <th>5</th>\n",
       "      <td>DELL Inspiron Core i5 11th Gen</td>\n",
       "      <td>4.5</td>\n",
       "      <td>70850.0</td>\n",
       "    </tr>\n",
       "    <tr>\n",
       "      <th>6</th>\n",
       "      <td>DELL Vostro Core i5 11th Gen</td>\n",
       "      <td>4.1</td>\n",
       "      <td>59990.0</td>\n",
       "    </tr>\n",
       "    <tr>\n",
       "      <th>7</th>\n",
       "      <td>DELL Inspiron Core i5 11th Gen</td>\n",
       "      <td>4.9</td>\n",
       "      <td>78300.0</td>\n",
       "    </tr>\n",
       "    <tr>\n",
       "      <th>8</th>\n",
       "      <td>DELL Inspiron Core i5 11th Gen</td>\n",
       "      <td>4.3</td>\n",
       "      <td>51990.0</td>\n",
       "    </tr>\n",
       "    <tr>\n",
       "      <th>9</th>\n",
       "      <td>DELL Inspiron Core i5 10th Gen</td>\n",
       "      <td>4.3</td>\n",
       "      <td>81299.0</td>\n",
       "    </tr>\n",
       "    <tr>\n",
       "      <th>10</th>\n",
       "      <td>DELL Inspiron Core i5 11th Gen</td>\n",
       "      <td>4.2</td>\n",
       "      <td>64490.0</td>\n",
       "    </tr>\n",
       "    <tr>\n",
       "      <th>11</th>\n",
       "      <td>DELL Inspiron Core i5 11th Gen</td>\n",
       "      <td>4.5</td>\n",
       "      <td>74990.0</td>\n",
       "    </tr>\n",
       "  </tbody>\n",
       "</table>\n",
       "</div>"
      ],
      "text/plain": [
       "                   dell_productname  dell_ratings  dell_price\n",
       "0      DELL Vostro Core i5 11th Gen           4.1     54990.0\n",
       "1        DELL G15 Core i5 10th Gen            4.3     60990.0\n",
       "2         DELL G15 Core i5 10th Gen           4.3     59990.0\n",
       "3    DELL Inspiron Core i5 11th Gen           4.5     70856.0\n",
       "4     DELL Vostro Core i5 11th Gen            4.1     59990.0\n",
       "5   DELL Inspiron Core i5 11th Gen            4.5     70850.0\n",
       "6     DELL Vostro Core i5 11th Gen            4.1     59990.0\n",
       "7    DELL Inspiron Core i5 11th Gen           4.9     78300.0\n",
       "8   DELL Inspiron Core i5 11th Gen            4.3     51990.0\n",
       "9   DELL Inspiron Core i5 10th Gen            4.3     81299.0\n",
       "10  DELL Inspiron Core i5 11th Gen            4.2     64490.0\n",
       "11   DELL Inspiron Core i5 11th Gen           4.5     74990.0"
      ]
     },
     "execution_count": 30,
     "metadata": {},
     "output_type": "execute_result"
    }
   ],
   "source": [
    "delldata = pd.read_csv(\"dell_laptop.csv\")\n",
    "dell_data=pd.DataFrame(delldata)\n",
    "dell_data"
   ]
  },
  {
   "cell_type": "code",
   "execution_count": 31,
   "id": "b20fc94e",
   "metadata": {},
   "outputs": [
    {
     "name": "stdout",
     "output_type": "stream",
     "text": [
      "                      hp_productname  hp_ratings  hp_price\n",
      "3  HP Spectre x360 Core i5 10th Gen          5.0  126000.0\n"
     ]
    }
   ],
   "source": [
    "print(hp_data[hp_data.hp_price == hp_data.hp_price.max()]) #Finding max price in Hp"
   ]
  },
  {
   "cell_type": "code",
   "execution_count": 32,
   "id": "a28c480f",
   "metadata": {},
   "outputs": [
    {
     "name": "stdout",
     "output_type": "stream",
     "text": [
      "             hp_productname  hp_ratings  hp_price\n",
      "11  HP 14q Core i5 8th Gen          4.2   44097.0\n"
     ]
    }
   ],
   "source": [
    "print(hp_data[hp_data.hp_price == hp_data.hp_price.min()]) #Finding min price in Hp"
   ]
  },
  {
   "cell_type": "code",
   "execution_count": 33,
   "id": "5da2bb73",
   "metadata": {},
   "outputs": [
    {
     "name": "stdout",
     "output_type": "stream",
     "text": [
      "                  dell_productname  dell_ratings  dell_price\n",
      "9  DELL Inspiron Core i5 10th Gen            4.3     81299.0\n"
     ]
    }
   ],
   "source": [
    "print(dell_data[dell_data.dell_price == dell_data.dell_price.max()]) #Finding max price in Dell"
   ]
  },
  {
   "cell_type": "code",
   "execution_count": 34,
   "id": "d456b60b",
   "metadata": {},
   "outputs": [
    {
     "name": "stdout",
     "output_type": "stream",
     "text": [
      "                  dell_productname  dell_ratings  dell_price\n",
      "8  DELL Inspiron Core i5 11th Gen            4.3     51990.0\n"
     ]
    }
   ],
   "source": [
    "print(dell_data[dell_data.dell_price == dell_data.dell_price.min()]) #Finding min price in Dell"
   ]
  },
  {
   "cell_type": "code",
   "execution_count": 35,
   "id": "7300db26",
   "metadata": {},
   "outputs": [
    {
     "data": {
      "text/plain": [
       "71245.83333333333"
      ]
     },
     "execution_count": 35,
     "metadata": {},
     "output_type": "execute_result"
    }
   ],
   "source": [
    "hp_data['hp_price'].mean()"
   ]
  },
  {
   "cell_type": "code",
   "execution_count": 36,
   "id": "2a0183aa",
   "metadata": {},
   "outputs": [
    {
     "data": {
      "text/plain": [
       "65727.08333333333"
      ]
     },
     "execution_count": 36,
     "metadata": {},
     "output_type": "execute_result"
    }
   ],
   "source": [
    "dell_data['dell_price'].mean()"
   ]
  },
  {
   "cell_type": "code",
   "execution_count": 37,
   "id": "25766672",
   "metadata": {},
   "outputs": [],
   "source": [
    "#dell laptop average price is lower than hp"
   ]
  },
  {
   "cell_type": "code",
   "execution_count": 38,
   "id": "27d450dc",
   "metadata": {},
   "outputs": [
    {
     "data": {
      "text/plain": [
       "4.341666666666668"
      ]
     },
     "execution_count": 38,
     "metadata": {},
     "output_type": "execute_result"
    }
   ],
   "source": [
    "hp_data['hp_ratings'].mean()"
   ]
  },
  {
   "cell_type": "code",
   "execution_count": 39,
   "id": "a8ff52e0",
   "metadata": {},
   "outputs": [
    {
     "data": {
      "text/plain": [
       "4.341666666666666"
      ]
     },
     "execution_count": 39,
     "metadata": {},
     "output_type": "execute_result"
    }
   ],
   "source": [
    "dell_data['dell_ratings'].mean()"
   ]
  },
  {
   "cell_type": "code",
   "execution_count": 40,
   "id": "16ac79ce",
   "metadata": {},
   "outputs": [],
   "source": [
    "from matplotlib import pyplot as plt\n"
   ]
  },
  {
   "cell_type": "code",
   "execution_count": 41,
   "id": "3b0489f1",
   "metadata": {},
   "outputs": [
    {
     "data": {
      "text/plain": [
       "<AxesSubplot:title={'center':'Hp_price'}, xlabel='hp_productname'>"
      ]
     },
     "execution_count": 41,
     "metadata": {},
     "output_type": "execute_result"
    },
    {
     "data": {
      "image/png": "[encoded data removed]",
      "text/plain": [
       "<Figure size 432x288 with 1 Axes>"
      ]
     },
     "metadata": {
      "needs_background": "light"
     },
     "output_type": "display_data"
    }
   ],
   "source": [
    "hp_data.plot.bar(x=\"hp_productname\", y=\"hp_price\", rot=70, title=\"Hp_price\")"
   ]
  },
  {
   "cell_type": "code",
   "execution_count": 42,
   "id": "dfcd1c7d",
   "metadata": {},
   "outputs": [
    {
     "data": {
      "text/plain": [
       "<AxesSubplot:title={'center':'Hp_ratings'}, xlabel='hp_productname'>"
      ]
     },
     "execution_count": 42,
     "metadata": {},
     "output_type": "execute_result"
    },
    {
     "data": {
      "image/png": "[encoded data removed]",
      "text/plain": [
       "<Figure size 432x288 with 1 Axes>"
      ]
     },
     "metadata": {
      "needs_background": "light"
     },
     "output_type": "display_data"
    }
   ],
   "source": [
    "hp_data.plot.bar(x=\"hp_productname\", y=\"hp_ratings\", rot=70, title=\"Hp_ratings\")"
   ]
  },
  {
   "cell_type": "code",
   "execution_count": 43,
   "id": "2eeae374",
   "metadata": {},
   "outputs": [
    {
     "data": {
      "text/plain": [
       "<AxesSubplot:title={'center':'dell_price'}, xlabel='dell_productname'>"
      ]
     },
     "execution_count": 43,
     "metadata": {},
     "output_type": "execute_result"
    },
    {
     "data": {
      "image/png": "[encoded data removed]",
      "text/plain": [
       "<Figure size 432x288 with 1 Axes>"
      ]
     },
     "metadata": {
      "needs_background": "light"
     },
     "output_type": "display_data"
    }
   ],
   "source": [
    "dell_data.plot.bar(x=\"dell_productname\", y=\"dell_price\", rot=70, title=\"dell_price\")"
   ]
  },
  {
   "cell_type": "code",
   "execution_count": 44,
   "id": "b16ef0d5",
   "metadata": {},
   "outputs": [
    {
     "data": {
      "text/plain": [
       "<AxesSubplot:title={'center':'dell_ratings'}, xlabel='dell_productname'>"
      ]
     },
     "execution_count": 44,
     "metadata": {},
     "output_type": "execute_result"
    },
    {
     "data": {
      "image/png": "[encoded data removed]",
      "text/plain": [
       "<Figure size 432x288 with 1 Axes>"
      ]
     },
     "metadata": {
      "needs_background": "light"
     },
     "output_type": "display_data"
    }
   ],
   "source": [
    "dell_data.plot.bar(x=\"dell_productname\", y=\"dell_ratings\", rot=70, title=\"dell_ratings\")"
   ]
  }
 ],
 "metadata": {
  "kernelspec": {
   "display_name": "Python 3 (ipykernel)",
   "language": "python",
   "name": "python3"
  },
  "language_info": {
   "codemirror_mode": {
    "name": "ipython",
    "version": 3
   },
   "file_extension": ".py",
   "mimetype": "text/x-python",
   "name": "python",
   "nbconvert_exporter": "python",
   "pygments_lexer": "ipython3",
   "version": "3.9.7"
  }
 },
 "nbformat": 4,
 "nbformat_minor": 5
}
